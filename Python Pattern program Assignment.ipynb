{
 "cells": [
  {
   "cell_type": "markdown",
   "metadata": {},
   "source": [
    "## 1) Write a program to print the below pattern.\n",
    "## * \n",
    "## * * \n",
    "## * * * \n",
    "## * * * * \n",
    "## * * * * * "
   ]
  },
  {
   "cell_type": "code",
   "execution_count": 2,
   "metadata": {},
   "outputs": [
    {
     "name": "stdout",
     "output_type": "stream",
     "text": [
      "Enter the rows:5\n",
      "* \n",
      "* * \n",
      "* * * \n",
      "* * * * \n",
      "* * * * * \n"
     ]
    }
   ],
   "source": [
    "## Taking the number of lines as a input\n",
    "num=int(input(\"Enter the rows:\"))\n",
    "## logic for printing the number of rows\n",
    "for i in range(1,num+1):\n",
    "    ## Logic for printing the actual logic\n",
    "    for j in range(1,i+1):\n",
    "        print(\"*\",end=\" \")## Printing the Pattern.\n",
    "    print()## Taking the cursor to the next line after each iteration."
   ]
  },
  {
   "cell_type": "markdown",
   "metadata": {},
   "source": [
    "## Q.2)"
   ]
  },
  {
   "cell_type": "code",
   "execution_count": 3,
   "metadata": {},
   "outputs": [
    {
     "name": "stdout",
     "output_type": "stream",
     "text": [
      "Enter the rows:-5\n",
      "    *\n",
      "   **\n",
      "  ***\n",
      " ****\n",
      "*****\n"
     ]
    }
   ],
   "source": [
    "## Taking the number of lines as a input\n",
    "num=int(input(\"Enter the rows:-\"))\n",
    "## logic for printing the number of rows\n",
    "for i in range(num):\n",
    "    ## logic for printing the spaces\n",
    "    for j in range(0,num-i-1):\n",
    "        print(end=\" \")## print the spaces\n",
    "    ## Logic for printing the pattern\n",
    "    for j in range(0,i+1):\n",
    "        print(\"*\",end=\"\")## printing the pattern.\n",
    "    print()## Take the cursor to the next line"
   ]
  },
  {
   "cell_type": "markdown",
   "metadata": {},
   "source": [
    "## Q.3)"
   ]
  },
  {
   "cell_type": "code",
   "execution_count": 10,
   "metadata": {},
   "outputs": [
    {
     "name": "stdout",
     "output_type": "stream",
     "text": [
      "Enter the rows:-5\n",
      "    * \n",
      "   * * \n",
      "  * * * \n",
      " * * * * \n",
      "* * * * * \n"
     ]
    }
   ],
   "source": [
    "## Taking the number of lines as a input\n",
    "num=int(input(\"Enter the rows:-\"))\n",
    "## logic for printing the number of rows\n",
    "for i in range(0,num):\n",
    "    ## Logic for printing the spaces\n",
    "    for j in range(0,num-i-1):\n",
    "        print(end=\" \")## printing the spaces\n",
    "    ## Actual logic for printing the pattern\n",
    "    for j in range(0,i+1):\n",
    "        print(\"*\",end=\" \")## printing the desired pattern.\n",
    "    print()## Taking the cursor to the next line after each iteration."
   ]
  },
  {
   "cell_type": "markdown",
   "metadata": {},
   "source": [
    "## 4)Write a program to print the following pattern.\n",
    "## 1 \n",
    "## 1 2 \n",
    "## 1 2 3 \n",
    "## 1 2 3 4 \n",
    "## 1 2 3 4 5 "
   ]
  },
  {
   "cell_type": "code",
   "execution_count": 3,
   "metadata": {},
   "outputs": [
    {
     "name": "stdout",
     "output_type": "stream",
     "text": [
      "Enter the rows:5\n",
      "1 \n",
      "1 2 \n",
      "1 2 3 \n",
      "1 2 3 4 \n",
      "1 2 3 4 5 \n"
     ]
    }
   ],
   "source": [
    "## Taking the number of lines as a input\n",
    "num=int(input(\"Enter the rows:\"))\n",
    "## logic for printing the number of rows\n",
    "for i in range(1,num+1):\n",
    "    ## Logic for printing the actual logic\n",
    "    for j in range(1,i+1):\n",
    "        print(j,end=\" \")##Printing the Pattern.\n",
    "    print()## Taking the cursor to the next line after each iteration."
   ]
  },
  {
   "cell_type": "markdown",
   "metadata": {},
   "source": [
    "## Q.5)"
   ]
  },
  {
   "cell_type": "code",
   "execution_count": 1,
   "metadata": {},
   "outputs": [
    {
     "name": "stdout",
     "output_type": "stream",
     "text": [
      "Enter the rows:5\n",
      "1 \n",
      "2 3 \n",
      "4 5 6 \n",
      "7 8 9 10 \n",
      "11 12 13 14 15 \n"
     ]
    }
   ],
   "source": [
    "num=1 ## Initializing the variable as num=1 for printing the pattern in desired way.\n",
    "incr=1## counter variable\n",
    "n=int(input(\"Enter the rows:\"))## Take the user input as number of rows we want to print\n",
    "for i in range(n):  ## logic for printing the number of rows\n",
    "    for j in range(incr):## Logic for printing the actual logic\n",
    "        print(num,end=\" \")# printing the desired pattern\n",
    "        num=num+1## Increment the variable to print the next rows of desired pattern once it went to for loop\n",
    "    print() ## Take the cursor to the next line.\n",
    "    incr=incr+1## increment the counter variable."
   ]
  },
  {
   "cell_type": "markdown",
   "metadata": {},
   "source": [
    "## Q.6)"
   ]
  },
  {
   "cell_type": "code",
   "execution_count": 2,
   "metadata": {},
   "outputs": [
    {
     "name": "stdout",
     "output_type": "stream",
     "text": [
      "Enter the rows:5\n",
      "A \n",
      "B B \n",
      "C C C \n",
      "D D D D \n",
      "E E E E E \n"
     ]
    }
   ],
   "source": [
    "## Take the user input as number of rows\n",
    "n=int(input(\"Enter the rows:\"))\n",
    "num=65## initialize the variable with ASCII CODE of first character in the pattern.\n",
    "for i in range(0,n):## logic for printing the number of rows\n",
    "    for j in range(0,i+1):## Logic for printing the actual logic\n",
    "        print(chr(num),end=\" \")## printing the desired pattern.\n",
    "    num=num+1## incrementing the variable to print the next line characters.\n",
    "    print() ## Take the cursor to the next line."
   ]
  },
  {
   "cell_type": "markdown",
   "metadata": {},
   "source": [
    "## Q.7)"
   ]
  },
  {
   "cell_type": "code",
   "execution_count": 4,
   "metadata": {},
   "outputs": [
    {
     "name": "stdout",
     "output_type": "stream",
     "text": [
      "Enter the rows:5\n",
      "A \n",
      "B C \n",
      "D E F \n",
      "G H I J \n",
      "K L M N O \n"
     ]
    }
   ],
   "source": [
    "## Take the user input as number of rows\n",
    "n=int(input(\"Enter the rows:\"))\n",
    "num=65 ##initialize the variable with ASCII code of first character.\n",
    "for i in range(0,n):## logic for printing the number of rows\n",
    "    for j in range(0,i+1):## Logic for printing the actual logic\n",
    "        print(chr(num),end=\" \")## Printing the Pattern.\n",
    "        num=num+1## increment the variable.\n",
    "    print()## Take the cursor to the next line."
   ]
  },
  {
   "cell_type": "markdown",
   "metadata": {},
   "source": [
    "## Q.8)"
   ]
  },
  {
   "cell_type": "code",
   "execution_count": 5,
   "metadata": {},
   "outputs": [
    {
     "name": "stdout",
     "output_type": "stream",
     "text": [
      "Enter the rows:5\n",
      "* \n",
      "* * * \n",
      "* * * * * \n",
      "* * * * * * * \n",
      "* * * * * * * * * \n"
     ]
    }
   ],
   "source": [
    "## Take the user input as number of rows\n",
    "num=int(input(\"Enter the rows:\"))\n",
    "k=1## initialize the counter with variable with 1\n",
    "for i in range(1,num+1):## logic for printing the number of rows\n",
    "    for j in range(1,k+1):## Logic for printing the actual logic\n",
    "        print(\"*\", end=\" \")## Printing the Pattern.\n",
    "    k=k+2## Incrementing the counter variable in order to print the next rows of desired pattern.\n",
    "    print()## Take the cursor to the next line."
   ]
  },
  {
   "cell_type": "markdown",
   "metadata": {},
   "source": [
    "## Q.9)"
   ]
  },
  {
   "cell_type": "code",
   "execution_count": 6,
   "metadata": {},
   "outputs": [
    {
     "name": "stdout",
     "output_type": "stream",
     "text": [
      "Enter the rows:5\n",
      "                * \n",
      "            * * * \n",
      "        * * * * * \n",
      "    * * * * * * * \n",
      "* * * * * * * * * \n"
     ]
    }
   ],
   "source": [
    "## Take the user input as number of rows\n",
    "num=int(input(\"Enter the rows:\"))\n",
    "spaces=16 ## Initialize the total number of spaces in the desired pattern.\n",
    "k=1## Initialize the counter variable with 1\n",
    "for i in range(0,num):## logic for printing the number of rows\n",
    "    for j in range(0,spaces):## Logic for printing the spaces\n",
    "        print(end=\" \")## printing the spaces\n",
    "    spaces=spaces-4 ## decrement the spaces 4 in order to print for the next rows of pattern\n",
    "    for j in range(k):##Logic for printing the actual logic\n",
    "        print(\"* \",end=\"\")## printing the pattern.\n",
    "    k=k+2## initialize the counter\n",
    "    print()## Take the cursor to the next line."
   ]
  },
  {
   "cell_type": "markdown",
   "metadata": {},
   "source": [
    "## Q.10)"
   ]
  },
  {
   "cell_type": "code",
   "execution_count": 2,
   "metadata": {},
   "outputs": [
    {
     "name": "stdout",
     "output_type": "stream",
     "text": [
      "Enter the rows:6\n",
      " * * * * * \n",
      "  * * * * \n",
      "   * * * \n",
      "    * * \n",
      "     * \n",
      "      \n"
     ]
    }
   ],
   "source": [
    "## Take the user input as number of rows\n",
    "num=int(input(\"Enter the rows:\"))\n",
    "## Logic for printing the number of rows\n",
    "for i in range(num):\n",
    "    for j in range(i+1):## logic for printing the spaces for the pattern\n",
    "        print(end=\" \") ## print the spaces\n",
    "    for j in range(num-i-1):## logic for print the pattern \n",
    "        print(\"*\",end=\" \")## print the pattern\n",
    "    print()## Take the cursor to the next line."
   ]
  },
  {
   "cell_type": "markdown",
   "metadata": {},
   "source": [
    "## Q.11)"
   ]
  },
  {
   "cell_type": "code",
   "execution_count": 1,
   "metadata": {},
   "outputs": [
    {
     "name": "stdout",
     "output_type": "stream",
     "text": [
      "Enter the rows:6\n",
      "     * \n",
      "    * * \n",
      "   * * * \n",
      "  * * * * \n",
      " * * * * * \n",
      "* * * * * * \n",
      " * * * * * \n",
      "  * * * * \n",
      "   * * * \n",
      "    * * \n",
      "     * \n",
      "      \n"
     ]
    }
   ],
   "source": [
    "## Take the input as number of rows\n",
    "num=int(input(\"Enter the rows:\"))\n",
    "## logic for printing the number of rows\n",
    "for i in range(num):\n",
    "    for j in range(num-i-1):## logic for printing the spaces\n",
    "        print(end=\" \")## print the spaces\n",
    "    for j in range(i+1):## logic for printing the pattern\n",
    "        print(\"*\", end=\" \")## print the pattern\n",
    "    print()## Take the cursor to the next line\n",
    "for i in range(num):## logic for printing the number of rows\n",
    "    for j in range(i+1):## logic for printing the spaces\n",
    "        print(end=\" \") ## print the spaces\n",
    "    for j in range(num-i-1):## logic for printing the pattern.\n",
    "        print(\"*\",end=\" \")## print the desired pattern.\n",
    "    print() ## Take the cursor to the next line."
   ]
  },
  {
   "cell_type": "markdown",
   "metadata": {},
   "source": [
    "## Q.12)"
   ]
  },
  {
   "cell_type": "code",
   "execution_count": 11,
   "metadata": {},
   "outputs": [
    {
     "name": "stdout",
     "output_type": "stream",
     "text": [
      "Enter the rows:6\n",
      "* * * * * * \n",
      "* * * * * \n",
      "* * * * \n",
      "* * * \n",
      "* * \n",
      "* \n",
      "* * \n",
      "* * * \n",
      "* * * * \n",
      "* * * * * \n",
      "* * * * * * \n"
     ]
    }
   ],
   "source": [
    "## Take the input as number of rows\n",
    "num=int(input(\"Enter the rows:\"))\n",
    "for i in range(5,0,-1):## logic for printing the number of rows\n",
    "    for j in range(0,i+1):## logic for printing the stars\n",
    "        print(\"*\",end=\" \")## print the half pattern\n",
    "    print()## Take the cursor to the next line\n",
    "for i in range(1,num+1):## logic for printing the number of rows\n",
    "    for j in range(1,i+1):## logic for printing the pattern\n",
    "        print(\"*\",end=\" \")## print the other half of the pattern\n",
    "    print()## Take the cursor to the next line"
   ]
  },
  {
   "cell_type": "markdown",
   "metadata": {},
   "source": [
    "## Q.13)"
   ]
  },
  {
   "cell_type": "code",
   "execution_count": 12,
   "metadata": {},
   "outputs": [
    {
     "name": "stdout",
     "output_type": "stream",
     "text": [
      "Enter the rows:6\n",
      "  * * * * * * \n",
      "    * * * * * \n",
      "      * * * * \n",
      "        * * * \n",
      "          * * \n",
      "            * \n",
      "          * * \n",
      "        * * * \n",
      "      * * * * \n",
      "    * * * * * \n",
      "  * * * * * * \n",
      "* * * * * * * \n"
     ]
    }
   ],
   "source": [
    "## Take the user input as number of rows\n",
    "num=int(input(\"Enter the rows:\"))\n",
    "for i in range(0,num):## logic for printing the number of rows\n",
    "    for j in range(0,i+1):## Logic for printing the spaces\n",
    "        print(\" \",end=\" \")## print the spaces\n",
    "    for j in range(0,num-i):## Logic for printing the pattern\n",
    "        print(\"*\",end=\" \")## print the half pattern\n",
    "    print()## Take the cursor to the next line\n",
    "for i in range(1,num+1):## logic for printing the number of rows\n",
    "    for j in range(0,num-i):## logic for printing the spaces\n",
    "        print(\" \",end=\" \")## Print the spaces\n",
    "    for j in range(0,i+1):## logic for printing the pattern\n",
    "        print(\"*\",end=\" \")## print the other half of the pattern\n",
    "    print()## Take the cursor to the next line"
   ]
  },
  {
   "cell_type": "markdown",
   "metadata": {},
   "source": [
    "## Q.14)"
   ]
  },
  {
   "cell_type": "code",
   "execution_count": 2,
   "metadata": {},
   "outputs": [
    {
     "name": "stdout",
     "output_type": "stream",
     "text": [
      "Enter the number of rows:-5\n",
      "           1\n",
      "         1   1\n",
      "       1   2   1\n",
      "     1   3   3   1\n",
      "   1   4   6   4   1\n"
     ]
    }
   ],
   "source": [
    "## Take the input as number of rows\n",
    "row=int(input(\"Enter the number of rows:-\"))\n",
    "for i in range(0,row):## logic for printing the number of rows\n",
    "    coff=1## initializing the variable as 1\n",
    "    for j in range(1,row-i):## logic for printing the spaces\n",
    "        print(\"  \",end=\"\")## print the spaces\n",
    "    for j in range(0,i+1):## logic for printing the additional spaces\n",
    "        print(\"  \",coff,end=\"\")## print the additional spaces\n",
    "        coff=int(coff*((i-j)/(j+1)))## actual logic of the pattern\n",
    "    print()## Take the cursor to the next line."
   ]
  },
  {
   "cell_type": "markdown",
   "metadata": {},
   "source": [
    "## Q.15)"
   ]
  },
  {
   "cell_type": "code",
   "execution_count": 13,
   "metadata": {},
   "outputs": [
    {
     "name": "stdout",
     "output_type": "stream",
     "text": [
      " *** \n",
      "*   *\n",
      "*   *\n",
      "*****\n",
      "*   *\n",
      "*   *\n",
      "*   *\n"
     ]
    }
   ],
   "source": [
    "## Mapping the rows and columns for printing the pattern character as 'A'.\n",
    "for row in range(7):## mapping the rows\n",
    "    for col in range(5):## mapping the columns\n",
    "        if ((col==0 or col==4) and row!=0) or ((row==0 or row==3) and (col>0 and col<4)):## actual logic of the program\n",
    "            print(\"*\",end=\"\")## print the pattern.\n",
    "        else:## alternative part if above conditions aren't met then perform this\n",
    "            print(end=\" \")\n",
    "    print()## Take the cursor to the next line."
   ]
  }
 ],
 "metadata": {
  "kernelspec": {
   "display_name": "Python 3",
   "language": "python",
   "name": "python3"
  },
  "language_info": {
   "codemirror_mode": {
    "name": "ipython",
    "version": 3
   },
   "file_extension": ".py",
   "mimetype": "text/x-python",
   "name": "python",
   "nbconvert_exporter": "python",
   "pygments_lexer": "ipython3",
   "version": "3.7.3"
  }
 },
 "nbformat": 4,
 "nbformat_minor": 2
}
