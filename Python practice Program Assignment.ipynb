{
 "cells": [
  {
   "cell_type": "markdown",
   "metadata": {},
   "source": [
    "## Q.1)Write a Python program to find those numbers which\n",
    "## are divisible by 7 and multiple of 5, between 1500 and\n",
    "## 2700 (both included). "
   ]
  },
  {
   "cell_type": "code",
   "execution_count": 1,
   "metadata": {},
   "outputs": [
    {
     "name": "stdout",
     "output_type": "stream",
     "text": [
      "Enter the lower number:-1500\n",
      "Enter the upper number:-2700\n",
      "1505\n",
      "1540\n",
      "1575\n",
      "1610\n",
      "1645\n",
      "1680\n",
      "1715\n",
      "1750\n",
      "1785\n",
      "1820\n",
      "1855\n",
      "1890\n",
      "1925\n",
      "1960\n",
      "1995\n",
      "2030\n",
      "2065\n",
      "2100\n",
      "2135\n",
      "2170\n",
      "2205\n",
      "2240\n",
      "2275\n",
      "2310\n",
      "2345\n",
      "2380\n",
      "2415\n",
      "2450\n",
      "2485\n",
      "2520\n",
      "2555\n",
      "2590\n",
      "2625\n",
      "2660\n",
      "2695\n"
     ]
    }
   ],
   "source": [
    "l=int(input(\"Enter the lower number:-\"))## Taking the user input as lower limit\n",
    "u=int(input(\"Enter the upper number:-\"))## Taking the user input as upper limit\n",
    "for i in range(l,u+1):## actual logic for the program\n",
    "    if i%7==0 and i%5==0:## condition for the desired question\n",
    "        print(i)## if loop condition met then print those numbers."
   ]
  },
  {
   "cell_type": "markdown",
   "metadata": {},
   "source": [
    "## Q.2)Write a Python program to convert temperatures to\n",
    "## and from celsius, fahrenheit. [ Formula : c/5 = f-32/9 [\n",
    "## where c = temperature in celsius and f = temperature\n",
    "## in fahrenheit ]."
   ]
  },
  {
   "cell_type": "code",
   "execution_count": 2,
   "metadata": {},
   "outputs": [
    {
     "name": "stdout",
     "output_type": "stream",
     "text": [
      "Enter the temperature in the unit you want in (C/F):-F\n",
      "Enter the temperature:-32\n",
      "The temperature in celsius 142.22222222222223\n"
     ]
    }
   ],
   "source": [
    "## Take the temperature as either in Celsius or in fahrenheit\n",
    "temp=input(\"Enter the temperature in the unit you want in (C/F):-\")\n",
    "n=int(input(\"Enter the temperature:-\"))## Taking the user input as temperature number\n",
    "if temp==\"C\":## if you taken the temperature in Celsius then printing the temperature in fahrenheit.\n",
    "    c=n\n",
    "    f=(c/5)+(32/9)\n",
    "    print(\"The temperature in farenheit\",f)\n",
    "elif temp==\"F\":## if you taken the temperature in fahrenheit then printing the temperature in celsius.\n",
    "    f=n\n",
    "    c=(5*f)-(160/9)\n",
    "    print(\"The temperature in celsius\",c)"
   ]
  },
  {
   "cell_type": "markdown",
   "metadata": {},
   "source": [
    "## Q.3)Write a Python program that accepts a word from the\n",
    "## user and reverse it."
   ]
  },
  {
   "cell_type": "code",
   "execution_count": 3,
   "metadata": {},
   "outputs": [
    {
     "name": "stdout",
     "output_type": "stream",
     "text": [
      "Enter the string you want to reverse it:-CHINMAY\n",
      "YAMNIHC\n"
     ]
    }
   ],
   "source": [
    "string=input(\"Enter the string you want to reverse it:-\")## Take the user input as a string\n",
    "rev_string=string[::-1]## actual logic for reversing the string\n",
    "print(rev_string)## print the reversed string"
   ]
  },
  {
   "cell_type": "markdown",
   "metadata": {},
   "source": [
    "## Q.4)Write a program to find the square root."
   ]
  },
  {
   "cell_type": "code",
   "execution_count": 4,
   "metadata": {},
   "outputs": [
    {
     "name": "stdout",
     "output_type": "stream",
     "text": [
      "Enter the number:2\n",
      "The square root of num 2 is 1.4142135623730951\n"
     ]
    }
   ],
   "source": [
    "num=int(input(\"Enter the number:\"))## take the user input as number\n",
    "result=0 ## intializing the variable named result as zero in order to store the result \n",
    "result=(num**0.5)## Actual logic of the program\n",
    "print(\"The square root of num\",num,\"is\",result)## Print the square root value."
   ]
  },
  {
   "cell_type": "markdown",
   "metadata": {},
   "source": [
    "## Q.5)Write a program to calculate the area of triangle."
   ]
  },
  {
   "cell_type": "code",
   "execution_count": 5,
   "metadata": {},
   "outputs": [
    {
     "name": "stdout",
     "output_type": "stream",
     "text": [
      "Enter the base for the triangle:-4\n",
      "Enter the height for the triangle:-3\n",
      "The area of triangle is:- 6.0\n"
     ]
    }
   ],
   "source": [
    "## Take the user input as base and height for the area of triangle.\n",
    "base=float(input(\"Enter the base for the triangle:-\"))\n",
    "height=float(input(\"Enter the height for the triangle:-\"))\n",
    "## calculating the area\n",
    "area=0.5*base*height\n",
    "## print the area\n",
    "print(\"The area of triangle is:-\",area)"
   ]
  },
  {
   "cell_type": "markdown",
   "metadata": {},
   "source": [
    "## Q.6)Write a program to find the quadratic equation."
   ]
  },
  {
   "cell_type": "code",
   "execution_count": 6,
   "metadata": {},
   "outputs": [
    {
     "name": "stdout",
     "output_type": "stream",
     "text": [
      "Enter the coefficient of x^2:-1\n",
      "Enter the coefficient of x:-5\n",
      "Enter the value of c:-6\n",
      "The answer for the quadratic equation:- (-2.5+2.0615528128088303j)\n"
     ]
    }
   ],
   "source": [
    "## take the user input as coefficients of all the terms in the quadratic equation.\n",
    "a=int(input(\"Enter the coefficient of x^2:-\"))\n",
    "b=int(input(\"Enter the coefficient of x:-\"))\n",
    "c=int(input(\"Enter the value of c:-\"))\n",
    "delta=((b^2)-4*a*c)**0.5## store the delta value\n",
    "result=((-b+delta)/(2*a))## calculating the result\n",
    "print(\"The answer for the quadratic equation:-\", result) ## printing the result."
   ]
  },
  {
   "cell_type": "markdown",
   "metadata": {},
   "source": [
    "## Q.7)Write a program to swap two variables."
   ]
  },
  {
   "cell_type": "code",
   "execution_count": 7,
   "metadata": {},
   "outputs": [
    {
     "name": "stdout",
     "output_type": "stream",
     "text": [
      "Enter value of x: 10\n",
      "Enter value of y: 5\n",
      "The value of x after swapping: 5\n",
      "The value of y after swapping: 10\n"
     ]
    }
   ],
   "source": [
    "## Take the user input as two numbers in a character form.\n",
    "x = input('Enter value of x: ')\n",
    "y = input('Enter value of y: ')\n",
    "## actual logic of the swapping\n",
    "temp = x\n",
    "x = y\n",
    "y = temp\n",
    "## print the output after swapping\n",
    "print('The value of x after swapping: {}'.format(x))\n",
    "print('The value of y after swapping: {}'.format(y))"
   ]
  },
  {
   "cell_type": "markdown",
   "metadata": {},
   "source": [
    "## Q.8)Write a program to generate a random number."
   ]
  },
  {
   "cell_type": "code",
   "execution_count": 3,
   "metadata": {},
   "outputs": [
    {
     "name": "stdout",
     "output_type": "stream",
     "text": [
      "79\n"
     ]
    }
   ],
   "source": [
    "import random ## importing the directory\n",
    "print(random.randint(0,100))## print the random numbers from 0 to 100"
   ]
  },
  {
   "cell_type": "markdown",
   "metadata": {},
   "source": [
    "## Q.9)Write a  Program to convert kilometers to Miles."
   ]
  },
  {
   "cell_type": "code",
   "execution_count": 11,
   "metadata": {},
   "outputs": [
    {
     "name": "stdout",
     "output_type": "stream",
     "text": [
      "Enter the kilomter value:-3.2\n",
      "The km distance in miles is:- 1.9872\n"
     ]
    }
   ],
   "source": [
    "## Take the user input as distance in kilometers\n",
    "km=float(input(\"Enter the kilomter value:-\"))\n",
    "c=0.621## in order to get the distance in miles we need to multiply it with 0.621(1 km=0.621 miles) standard convention.\n",
    "miles=km*c ## calculate the distance in miles\n",
    "print(\"The km distance in miles is:-\",miles)## print the distance in miles."
   ]
  },
  {
   "cell_type": "markdown",
   "metadata": {},
   "source": [
    "## Q.10)Write a Program to find the largest among three numbers."
   ]
  },
  {
   "cell_type": "code",
   "execution_count": 12,
   "metadata": {},
   "outputs": [
    {
     "name": "stdout",
     "output_type": "stream",
     "text": [
      "Enter the number1:-20\n",
      "Enter the number2:-10\n",
      "Enter the number3:-5\n",
      "a is greater. a = 20\n"
     ]
    }
   ],
   "source": [
    "## Take the user input as three numbers\n",
    "a=int(input(\"Enter the number1:-\"))\n",
    "b=int(input(\"Enter the number2:-\"))\n",
    "c=int(input(\"Enter the number3:-\"))\n",
    "if a > b and a > c:## condition for whether first number is greater or not\n",
    "    print(\"a is greater.\",\"a\",\"=\",a)\n",
    "elif b > a and b > c:## condition for whether second number is greater or not\n",
    "    print(\"b is greater.\",\"b\",\"=\",b)\n",
    "else:## third number is surely the greatest, if above two conditions are not met.\n",
    "    print(\"c is greater.\",\"c\",\"=\",c)"
   ]
  },
  {
   "cell_type": "markdown",
   "metadata": {},
   "source": [
    "## Q.11)Write a program to check leap year."
   ]
  },
  {
   "cell_type": "code",
   "execution_count": 13,
   "metadata": {},
   "outputs": [
    {
     "name": "stdout",
     "output_type": "stream",
     "text": [
      "Enter the year:-2004\n",
      "It is a leap year.\n"
     ]
    }
   ],
   "source": [
    "year=int(input(\"Enter the year:-\"))## take the user input as year value\n",
    "if (year%4==0) and (year%100!=0 and year%400!=0):## actual logic for whether the entered year is leap year or not.\n",
    "    print(\"It is a leap year.\")## print the desired message\n",
    "else:\n",
    "    print(\"It is not a leap year.\")## print the desired message if if loop condition does not met."
   ]
  },
  {
   "cell_type": "markdown",
   "metadata": {},
   "source": [
    "## Q.12)Write a Program to check if a number is positive, negative or 0."
   ]
  },
  {
   "cell_type": "code",
   "execution_count": 14,
   "metadata": {},
   "outputs": [
    {
     "name": "stdout",
     "output_type": "stream",
     "text": [
      "Enter the number:-10\n",
      "It is a Positive number.\n"
     ]
    }
   ],
   "source": [
    "## Take user input as a number\n",
    "num=int(input(\"Enter the number:-\"))\n",
    "if num > 0:## condition to check whether a number is a positive number or not.\n",
    "    print(\"It is a Positive number.\")\n",
    "elif num < 0:## condition to check whether a number is a negative number or not.\n",
    "    print(\"It is a Negative number.\")\n",
    "else:## if above two if loop conditions won't met then it is zero.\n",
    "    print(\"It is zero.\")"
   ]
  },
  {
   "cell_type": "markdown",
   "metadata": {},
   "source": [
    "## Q.13)Write a program to find whether the number is prime or not."
   ]
  },
  {
   "cell_type": "code",
   "execution_count": 8,
   "metadata": {},
   "outputs": [
    {
     "name": "stdout",
     "output_type": "stream",
     "text": [
      "Enter the number to whether the number is prime or not:-99\n",
      "It is not a prime number.\n"
     ]
    }
   ],
   "source": [
    "## Take the user input as number\n",
    "num=int(input(\"Enter the number to whether the number is prime or not:-\"))\n",
    "if num > 1:## actual logic of the program starts from here\n",
    "    for i in range(2,num):\n",
    "        if num % i==0:\n",
    "            print(\"It is not a prime number.\")\n",
    "            break\n",
    "    else:\n",
    "        print(\"it is a prime number.\")## print the desired message\n",
    "else:\n",
    "    print(\"Kindly enter correct number\")"
   ]
  },
  {
   "cell_type": "markdown",
   "metadata": {},
   "source": [
    "## Q.14)Write a program to find whether the number is prime or not between the interval."
   ]
  },
  {
   "cell_type": "code",
   "execution_count": 18,
   "metadata": {},
   "outputs": [
    {
     "name": "stdout",
     "output_type": "stream",
     "text": [
      "Enter the lower interval:2\n",
      "Enter the upper interval:100\n",
      "2\n",
      "3\n",
      "5\n",
      "7\n",
      "11\n",
      "13\n",
      "17\n",
      "19\n",
      "23\n",
      "29\n",
      "31\n",
      "37\n",
      "41\n",
      "43\n",
      "47\n",
      "53\n",
      "59\n",
      "61\n",
      "67\n",
      "71\n",
      "73\n",
      "79\n",
      "83\n",
      "89\n",
      "97\n"
     ]
    }
   ],
   "source": [
    "lower=int(input(\"Enter the lower interval:\")) ## Take the lower limit as user input\n",
    "upper=int(input(\"Enter the upper interval:\")) ## Take the upper limit as user input\n",
    "for num in range(lower,upper+1):## actual logic of the programs\n",
    "    if num > 1:\n",
    "        for i in range(2,num):\n",
    "            if (num%i==0):\n",
    "                break\n",
    "        else:\n",
    "            print(num)## print the prime numbers in the desired range"
   ]
  },
  {
   "cell_type": "markdown",
   "metadata": {},
   "source": [
    "## Q.15)Write a program to find a factorial of number."
   ]
  },
  {
   "cell_type": "code",
   "execution_count": 19,
   "metadata": {},
   "outputs": [
    {
     "name": "stdout",
     "output_type": "stream",
     "text": [
      "Enter a number:5\n",
      "The factorial of 5 is 120\n"
     ]
    }
   ],
   "source": [
    "n=int(input(\"Enter a number:\"))## Take the user input as a number.\n",
    "result=1## variable initializing for the variable\n",
    "for i in range(n,0,-1):## actual logic of the program\n",
    "    result=result*i\n",
    "print(\"The factorial of\",n,\"is\",result)## print the factorial value of the desired input."
   ]
  },
  {
   "cell_type": "markdown",
   "metadata": {},
   "source": [
    "## Q.16)Write a Program to display the multiplication table."
   ]
  },
  {
   "cell_type": "code",
   "execution_count": 20,
   "metadata": {},
   "outputs": [
    {
     "name": "stdout",
     "output_type": "stream",
     "text": [
      "Enter the number for which you want to print the table:-6\n",
      "6 X 1 = 6\n",
      "6 X 2 = 12\n",
      "6 X 3 = 18\n",
      "6 X 4 = 24\n",
      "6 X 5 = 30\n",
      "6 X 6 = 36\n",
      "6 X 7 = 42\n",
      "6 X 8 = 48\n",
      "6 X 9 = 54\n",
      "6 X 10 = 60\n"
     ]
    }
   ],
   "source": [
    "## Take the user input as number\n",
    "num=int(input(\"Enter the number for which you want to print the table:-\"))\n",
    "for i in range(1,11):## actual logic of the program\n",
    "    print(num,\"X\",i,\"=\",(num*i))## printing the table for the number you have entered."
   ]
  },
  {
   "cell_type": "markdown",
   "metadata": {},
   "source": [
    "## Q.17)Write a  Program to find Armstrong Number in an interval."
   ]
  },
  {
   "cell_type": "code",
   "execution_count": 9,
   "metadata": {},
   "outputs": [
    {
     "name": "stdout",
     "output_type": "stream",
     "text": [
      "1\n",
      "2\n",
      "3\n",
      "4\n",
      "5\n",
      "6\n",
      "7\n",
      "8\n",
      "9\n",
      "153\n",
      "370\n",
      "371\n",
      "407\n"
     ]
    }
   ],
   "source": [
    "for i in range(1,1001):## specifying the range\n",
    "    num=i ## assigining the value of i as we are using the same in the actual logic and we don't want it to be change.\n",
    "    result=0 ## initializing the result variable as 0 in order to use it in the actual logic.\n",
    "    n=len(str(i))## counting the digit of the number and store in variable n\n",
    "    while i!=0:## Actual logic of the program\n",
    "        digit=i%10\n",
    "        result=result+(digit**n)\n",
    "        i=i//10\n",
    "    if num==result:\n",
    "        print(num)## print the armstrong number in desired condition met."
   ]
  },
  {
   "cell_type": "markdown",
   "metadata": {},
   "source": [
    "## Q.18)Write a program to find the sum of natural numbers."
   ]
  },
  {
   "cell_type": "code",
   "execution_count": 26,
   "metadata": {},
   "outputs": [
    {
     "name": "stdout",
     "output_type": "stream",
     "text": [
      "Enter the numbers for which you want to find the sum of natural numbers:-10\n",
      "55\n"
     ]
    }
   ],
   "source": [
    "## Take the user input as number\n",
    "num=int(input(\"Enter the numbers for which you want to find the sum of natural numbers:-\"))\n",
    "result=0 ## initialize the result variable as 0\n",
    "for i in range(1,num+1):## Actual logic of the program\n",
    "    result=result+i\n",
    "print(result)## print the sum"
   ]
  },
  {
   "cell_type": "markdown",
   "metadata": {},
   "source": [
    "## Q.19)Write a program to find factors of Number."
   ]
  },
  {
   "cell_type": "code",
   "execution_count": 27,
   "metadata": {},
   "outputs": [
    {
     "name": "stdout",
     "output_type": "stream",
     "text": [
      "Enter the number for which you want to find the factors:-12\n",
      "1 2 3 4 6 12 "
     ]
    }
   ],
   "source": [
    "## Take the user input as number for which you want to print the factors.\n",
    "num=int(input(\"Enter the number for which you want to find the factors:-\"))\n",
    "for i in range(1,num+1): ## Actual logic of the programs\n",
    "    if(num%i==0):\n",
    "        print(i, end=\" \") ## print the factors of the number you have taken as a input."
   ]
  },
  {
   "cell_type": "markdown",
   "metadata": {},
   "source": [
    "## Q.20)Write a program to find the simple calculator."
   ]
  },
  {
   "cell_type": "code",
   "execution_count": 28,
   "metadata": {},
   "outputs": [
    {
     "name": "stdout",
     "output_type": "stream",
     "text": [
      "Enter the operation which you want to perform:-A\n",
      "Enter the number1:-5\n",
      "Enter the number2:-1\n",
      "6\n"
     ]
    }
   ],
   "source": [
    "n=input(\"Enter the operation which you want to perform:-\")## Take the user input as a operation you want to perform.\n",
    "if n==\"A\":## Based on your choice the logic of the program\n",
    "    x=int(input(\"Enter the number1:-\"))## Take the user input as a number 1\n",
    "    y=int(input(\"Enter the number2:-\"))## Take the user input as a number 2\n",
    "    add=x+y ## adddition of the two numbers\n",
    "    print(add)## print the output of the same\n",
    "elif n==\"S\":## Based on your choice the logic of the program\n",
    "    x=int(input(\"Enter the number1:-\"))## Take the user input as a number 1\n",
    "    y=int(input(\"Enter the number2:-\"))## Take the user input as a number 2\n",
    "    sub=x-y ## Subtraction of the two numbers\n",
    "    print(sub)## print the output of the same\n",
    "elif n==\"M\":## Based on your choice the logic of the program\n",
    "    x=int(input(\"Enter the number1:-\"))## Take the user input as a number 1\n",
    "    y=int(input(\"Enter the number2:-\"))## Take the user input as a number 2\n",
    "    Mul=x*y ## Multiplication of the two numbers\n",
    "    print(Mul)## print the output of the same\n",
    "elif n==\"D\":## Based on your choice the logic of the program\n",
    "    x=int(input(\"Enter the number1:-\"))## Take the user input as a number 1\n",
    "    y=int(input(\"Enter the number2:-\"))## Take the user input as a number 2\n",
    "    Div=x/y ## Division of the two numbers\n",
    "    print(Div)## print the output of the same"
   ]
  },
  {
   "cell_type": "markdown",
   "metadata": {},
   "source": [
    "## Q.21)Write a Program to find LCM."
   ]
  },
  {
   "cell_type": "code",
   "execution_count": 29,
   "metadata": {},
   "outputs": [
    {
     "name": "stdout",
     "output_type": "stream",
     "text": [
      "Enter the number1:3\n",
      "Enter the number2:12\n",
      "LCM is: 12\n"
     ]
    }
   ],
   "source": [
    "a=int(input(\"Enter the number1:\"))## Take the user input as number 1\n",
    "b=int(input(\"Enter the number2:\"))## Take the user input as number 2\n",
    "## Actual logic of the program\n",
    "if a > b:\n",
    "    min1=a\n",
    "else:\n",
    "    min1=b\n",
    "while(1):\n",
    "    if min1%a==0 and min1%b==0:\n",
    "        print(\"LCM is:\", min1)\n",
    "        break\n",
    "        min1=min1+1"
   ]
  },
  {
   "cell_type": "markdown",
   "metadata": {},
   "source": [
    "## Q.22)Write a program to check whether the string is palindrome are not."
   ]
  },
  {
   "cell_type": "code",
   "execution_count": 43,
   "metadata": {},
   "outputs": [
    {
     "name": "stdout",
     "output_type": "stream",
     "text": [
      "Enter the string for which you want to perform the palindrome:HELLO\n",
      "Given string is not palindrome.\n"
     ]
    }
   ],
   "source": [
    "## Take the user input as string\n",
    "str1=input(\"Enter the string for which you want to perform the palindrome:\")\n",
    "if (str1==str1[::-1]):## Actual logic of the program\n",
    "    print(\"Given string is palindrome.\") ## print the desired message for the same.\n",
    "else:\n",
    "    print(\"Given string is not palindrome.\")## print the desired message if if loop condition is not met."
   ]
  },
  {
   "cell_type": "markdown",
   "metadata": {},
   "source": [
    "## Q.23)write a  Program to sort words in Alphabetic order."
   ]
  },
  {
   "cell_type": "code",
   "execution_count": 44,
   "metadata": {},
   "outputs": [
    {
     "data": {
      "text/plain": [
       "['AB', 'CA', 'CDS', 'CM']"
      ]
     },
     "execution_count": 44,
     "metadata": {},
     "output_type": "execute_result"
    }
   ],
   "source": [
    "l=['CA','AB','CM','CDS']## take the list as strings\n",
    "l.sort() ## sort method to print the character in the desired way.\n",
    "l ## print the list after sorting."
   ]
  },
  {
   "cell_type": "markdown",
   "metadata": {},
   "source": [
    "## Q.24)Write a Program to count the number of each vowel."
   ]
  },
  {
   "cell_type": "code",
   "execution_count": 45,
   "metadata": {},
   "outputs": [
    {
     "name": "stdout",
     "output_type": "stream",
     "text": [
      "Enter string:CHINMAY\n",
      "Number of vowels are: 2\n"
     ]
    }
   ],
   "source": [
    "string=input(\"Enter string:\")## Take the user input as a string\n",
    "v=0 ## initialize the counter variable as zero.\n",
    "for i in string:## Actual logic of the program\n",
    "      if(i=='a' or i=='e' or i=='i' or i=='o' or i=='u' or i=='A' or i=='E' or i=='I' or i=='O' or i=='U'):\n",
    "            v=v+1## storing the vowels after each iteration.\n",
    "print(\"Number of vowels are:\",v)## print the total number of vowels in the string."
   ]
  },
  {
   "cell_type": "markdown",
   "metadata": {},
   "source": [
    "## Q.25)Write a program to print the alphabet A."
   ]
  },
  {
   "cell_type": "code",
   "execution_count": 10,
   "metadata": {},
   "outputs": [
    {
     "name": "stdout",
     "output_type": "stream",
     "text": [
      " *** \n",
      "*   *\n",
      "*   *\n",
      "*****\n",
      "*   *\n",
      "*   *\n",
      "*   *\n"
     ]
    }
   ],
   "source": [
    "## Mapping the rows and columns for printing the pattern character as 'A'.\n",
    "for row in range(7):## mapping the rows\n",
    "    for col in range(5):## mapping the columns\n",
    "        if ((col==0 or col==4) and row!=0) or ((row==0 or row==3) and (col>0 and col<4)):## actual logic of the program\n",
    "            print(\"*\",end=\"\")## print the pattern.\n",
    "        else:## alternative part if above conditions aren't met then perform this\n",
    "            print(end=\" \")\n",
    "    print()## Take the cursor to the next line."
   ]
  },
  {
   "cell_type": "markdown",
   "metadata": {},
   "source": [
    "## Q.26)Accept a character from the user and check for the\n",
    "## following and display appropriate messages:\n",
    "## 1) Is the character a vowel or consonant?\n",
    "## 2)Is the character in uppercase or lowercase?\n",
    "## 3)Does the character occur in the string “Data Science” and if so at what position?"
   ]
  },
  {
   "cell_type": "markdown",
   "metadata": {},
   "source": [
    "## Q.1)"
   ]
  },
  {
   "cell_type": "code",
   "execution_count": 47,
   "metadata": {},
   "outputs": [
    {
     "name": "stdout",
     "output_type": "stream",
     "text": [
      "Enter a character:-a\n",
      "a is a Vowel.\n"
     ]
    }
   ],
   "source": [
    "x=input(\"Enter a character:-\")## Take the user input as a character.\n",
    "for i in x:## actual logic of the program\n",
    "    if(i=='a' or i=='e' or i=='i' or i=='o' or i=='u' or i=='A' or i=='E' or i=='I' or i=='O' or i=='U'):\n",
    "        print(i,\"is a Vowel.\")## print the desired message\n",
    "    else:\n",
    "        print(i,\"is a Consonant.\")## print the desired message if if loop condition does not met."
   ]
  },
  {
   "cell_type": "markdown",
   "metadata": {},
   "source": [
    "## Q.2)"
   ]
  },
  {
   "cell_type": "code",
   "execution_count": 48,
   "metadata": {},
   "outputs": [
    {
     "name": "stdout",
     "output_type": "stream",
     "text": [
      "Enter a character:-a\n",
      "a is the lower case character.\n"
     ]
    }
   ],
   "source": [
    "x=input(\"Enter a character:-\")## Take the user input as character. \n",
    "if x.lower()==x:## Actual logic of the program.\n",
    "    print(x,\"is the lower case character.\") ## print the desired message.\n",
    "else:\n",
    "    print(x,\"is the upper case character.\")## print the desired message."
   ]
  },
  {
   "cell_type": "markdown",
   "metadata": {},
   "source": [
    "## Q.3)"
   ]
  },
  {
   "cell_type": "code",
   "execution_count": 49,
   "metadata": {},
   "outputs": [
    {
     "name": "stdout",
     "output_type": "stream",
     "text": [
      "True\n",
      "1\n"
     ]
    }
   ],
   "source": [
    "x=\"Data Science\" ## string taken in the variable\n",
    "y='a'in x ## searching the character in x.\n",
    "print(y)## print the desired message.\n",
    "print(x.index('a',0,5))## print the first occurence of the index for the desired letter."
   ]
  },
  {
   "cell_type": "markdown",
   "metadata": {},
   "source": [
    "## Q.27)Write a function to add two numbers."
   ]
  },
  {
   "cell_type": "code",
   "execution_count": 50,
   "metadata": {},
   "outputs": [
    {
     "name": "stdout",
     "output_type": "stream",
     "text": [
      "Enter the number1:-10\n",
      "Enter the number2:-20\n",
      "30\n"
     ]
    }
   ],
   "source": [
    "def add(x,y): ## function to add two numbers\n",
    "    return x+y ## return the result as output\n",
    "x=int(input(\"Enter the number1:-\"))## Take the user input as number 1\n",
    "y=int(input(\"Enter the number2:-\"))## Take the user input as number 2\n",
    "print(add(x,y))## printing the result which will be returned through function so stated function call inside the print statement."
   ]
  },
  {
   "cell_type": "markdown",
   "metadata": {},
   "source": [
    "## Q.28)Write a function to calculate the average of two numbers."
   ]
  },
  {
   "cell_type": "code",
   "execution_count": 51,
   "metadata": {},
   "outputs": [
    {
     "name": "stdout",
     "output_type": "stream",
     "text": [
      "Enter the number1:-10\n",
      "Enter the number2:-20\n",
      "15.0\n"
     ]
    }
   ],
   "source": [
    "def avg(x,y):## function to calculate the average of two numbers\n",
    "    return (x+y)/2 ## return the result as output\n",
    "x=int(input(\"Enter the number1:-\"))## Take the user input as number 1\n",
    "y=int(input(\"Enter the number2:-\"))## Take the user input as number 2\n",
    "print(avg(x,y))## printing the result which will be returned through function so stated function call inside the print statement."
   ]
  },
  {
   "cell_type": "markdown",
   "metadata": {},
   "source": [
    "## Q.29)Write a function to calculate the square of sum of two numbers."
   ]
  },
  {
   "cell_type": "code",
   "execution_count": 52,
   "metadata": {},
   "outputs": [
    {
     "name": "stdout",
     "output_type": "stream",
     "text": [
      "Enter the number1:-10\n",
      "Enter the number2:-20\n",
      "900\n"
     ]
    }
   ],
   "source": [
    "def square_sum_of_two_num(x,y):## function to calculate the square of sum of two numbers.\n",
    "    return (x+y)**2 ## return the result as output\n",
    "x=int(input(\"Enter the number1:-\"))## Take the user input as number 1\n",
    "y=int(input(\"Enter the number2:-\"))## Take the user input as number 2\n",
    "print(square_sum_of_two_num(x,y))## function call"
   ]
  },
  {
   "cell_type": "markdown",
   "metadata": {},
   "source": [
    "## Q.30)Write a function to check whether the number is in the range 50 to 100."
   ]
  },
  {
   "cell_type": "code",
   "execution_count": 53,
   "metadata": {},
   "outputs": [
    {
     "name": "stdout",
     "output_type": "stream",
     "text": [
      "Enter the number:-65\n"
     ]
    },
    {
     "data": {
      "text/plain": [
       "True"
      ]
     },
     "execution_count": 53,
     "metadata": {},
     "output_type": "execute_result"
    }
   ],
   "source": [
    "def ran(x):## function to check whether the number is in the range between 50 to 100.\n",
    "    return (x>=50 and x<=100) ## return the desired result as ouput.\n",
    "x=int(input(\"Enter the number:-\"))## Take user input as number\n",
    "ran(x)## function call"
   ]
  },
  {
   "cell_type": "code",
   "execution_count": null,
   "metadata": {},
   "outputs": [],
   "source": []
  }
 ],
 "metadata": {
  "kernelspec": {
   "display_name": "Python 3",
   "language": "python",
   "name": "python3"
  },
  "language_info": {
   "codemirror_mode": {
    "name": "ipython",
    "version": 3
   },
   "file_extension": ".py",
   "mimetype": "text/x-python",
   "name": "python",
   "nbconvert_exporter": "python",
   "pygments_lexer": "ipython3",
   "version": "3.7.3"
  }
 },
 "nbformat": 4,
 "nbformat_minor": 2
}
